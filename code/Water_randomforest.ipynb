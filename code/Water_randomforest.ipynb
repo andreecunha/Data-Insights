{
  "cells": [
    {
      "cell_type": "code",
      "execution_count": null,
      "id": "c7e6aa5e",
      "metadata": {
        "id": "c7e6aa5e"
      },
      "outputs": [],
      "source": [
        "import pandas as pd\n",
        "import numpy as np\n",
        "import matplotlib.pyplot as plt\n",
        "from sklearn.model_selection import train_test_split, GridSearchCV, cross_validate\n",
        "from sklearn.preprocessing import StandardScaler\n",
        "from sklearn.ensemble import RandomForestClassifier\n",
        "from sklearn.metrics import accuracy_score, classification_report, f1_score, recall_score, confusion_matrix\n",
        "import sklearn\n",
        "import math\n",
        "import warnings\n",
        "import seaborn as sns\n",
        "from imblearn.over_sampling import SMOTE\n",
        "from sklearn.decomposition import PCA\n",
        "\n",
        "\n",
        "warnings.filterwarnings(\"ignore\")\n"
      ]
    },
    {
      "cell_type": "code",
      "execution_count": null,
      "id": "211622da",
      "metadata": {
        "colab": {
          "base_uri": "https://localhost:8080/"
        },
        "id": "211622da",
        "outputId": "6c371be0-1941-40cc-b9e0-9f65a32d1d7c"
      },
      "outputs": [
        {
          "output_type": "stream",
          "name": "stdout",
          "text": [
            "   fixed acidity  volatile acidity  citric acid  residual sugar  chlorides  \\\n",
            "0            7.4              0.70         0.00             1.9      0.076   \n",
            "1            7.8              0.88         0.00             2.6      0.098   \n",
            "2            7.8              0.76         0.04             2.3      0.092   \n",
            "3           11.2              0.28         0.56             1.9      0.075   \n",
            "4            7.4              0.70         0.00             1.9      0.076   \n",
            "\n",
            "   free sulfur dioxide  total sulfur dioxide  density    pH  sulphates  \\\n",
            "0                 11.0                  34.0   0.9978  3.51       0.56   \n",
            "1                 25.0                  67.0   0.9968  3.20       0.68   \n",
            "2                 15.0                  54.0   0.9970  3.26       0.65   \n",
            "3                 17.0                  60.0   0.9980  3.16       0.58   \n",
            "4                 11.0                  34.0   0.9978  3.51       0.56   \n",
            "\n",
            "   alcohol  quality  \n",
            "0      9.4        5  \n",
            "1      9.8        5  \n",
            "2      9.8        5  \n",
            "3      9.8        6  \n",
            "4      9.4        5  \n"
          ]
        }
      ],
      "source": [
        "data = pd.read_csv(\"water_potability.csv\")\n",
        "\n",
        "print(data.head())\n",
        "\n",
        "columns  = data.columns\n"
      ]
    },
    {
      "cell_type": "code",
      "execution_count": null,
      "id": "afad67cd",
      "metadata": {
        "colab": {
          "base_uri": "https://localhost:8080/"
        },
        "id": "afad67cd",
        "outputId": "f975e7f1-9178-47c9-ebbf-6cec3206cb5f"
      },
      "outputs": [
        {
          "output_type": "stream",
          "name": "stdout",
          "text": [
            "fixed acidity           0\n",
            "volatile acidity        0\n",
            "citric acid             0\n",
            "residual sugar          0\n",
            "chlorides               0\n",
            "free sulfur dioxide     0\n",
            "total sulfur dioxide    0\n",
            "density                 0\n",
            "pH                      0\n",
            "sulphates               0\n",
            "alcohol                 0\n",
            "quality                 0\n",
            "dtype: int64\n",
            "(1599, 12)\n"
          ]
        }
      ],
      "source": [
        "# Missing values\n",
        "\n",
        "def change_mean():\n",
        "  for i in data.columns[data.isnull().any(axis=0)]: \n",
        "    data[i] = data.groupby(\"Potability\")[i].transform(lambda x: x.fillna(x.mean()))\n",
        "\n",
        "def drop_cols(data):\n",
        "    for i in range(data.shape[0]):\n",
        "        if (math.isnan(data.loc[i,'ph']) or math.isnan(data.loc[i, 'Sulfate']) or math.isnan(data.loc[i, \"Trihalomethanes\"])):\n",
        "            data = data.drop(i, axis = 0)\n",
        "    return data\n",
        "\n",
        "# Outliers\n",
        "\n",
        "def change_mean_out():\n",
        "  for col in columns:\n",
        "      mean = np.mean(data.loc[:, col])\n",
        "      std = np.std(data.loc[:, col])\n",
        "      for i in range(data.shape[0]):\n",
        "        if data.loc[i,col] > mean + 2 * std:\n",
        "          data[col] = data.groupby(\"Potability\")[col].transform(lambda x: x.fillna(x.mean()))\n",
        "\n",
        "def drop_out():\n",
        "    for col in columns:\n",
        "      mean = np.mean(data.loc[:, col])\n",
        "      std = np.std(data.loc[:, col])\n",
        "      for i in range(data.shape[0]):\n",
        "        if data.loc[i,col] > mean + 2 * std:\n",
        "          data.drop(i, axis = 0)\n",
        "\n",
        "#data = drop_cols(data)\n",
        "change_mean()\n",
        "change_mean_out()\n",
        "\n",
        "print(data.isnull().sum())\n",
        "print(data.shape)\n",
        "\n",
        "pca = PCA(n_components=3)\n",
        "pca.fit(data)\n",
        "pca.transform(data)\n",
        "\n",
        "y = data[\"Potability\"]\n",
        "x = data.drop([\"Potability\"], axis = 1)\n"
      ]
    },
    {
      "cell_type": "code",
      "execution_count": null,
      "id": "58673e06",
      "metadata": {
        "id": "58673e06"
      },
      "outputs": [],
      "source": [
        "x_train, x_test, y_train, y_test = train_test_split(x, y, test_size = 0.3)\n",
        "\n",
        "scaler = StandardScaler()\n",
        "scaler.fit(x_train)\n",
        "\n",
        "x_train = scaler.transform(x_train)\n",
        "x_test = scaler.transform(x_test)\n",
        "\n",
        "smote = SMOTE()\n",
        "x_train, y_train = smote.fit_resample(x_train, y_train)"
      ]
    },
    {
      "cell_type": "code",
      "execution_count": null,
      "id": "3fa68263",
      "metadata": {
        "id": "3fa68263"
      },
      "outputs": [],
      "source": [
        "model = RandomForestClassifier()\n",
        "\n",
        "search_space = { \"criterion\": [\"gini\",\"entropy\"],\n",
        "                \"max_depth\" : [10, 20, None]\n",
        "                }\n",
        "\n",
        "model1 = GridSearchCV(model, search_space)\n",
        "\n",
        "model1.fit(x_train, y_train) \n",
        "\n",
        "y_pred = model1.predict(x_test)"
      ]
    },
    {
      "cell_type": "code",
      "execution_count": null,
      "id": "1b9dffb0",
      "metadata": {
        "id": "1b9dffb0",
        "outputId": "af616da6-3f6a-4725-d861-ec61dfc287c0",
        "colab": {
          "base_uri": "https://localhost:8080/"
        }
      },
      "outputs": [
        {
          "output_type": "stream",
          "name": "stdout",
          "text": [
            "              precision    recall  f1-score   support\n",
            "\n",
            "           3       0.00      0.00      0.00         2\n",
            "           4       0.19      0.27      0.22        15\n",
            "           5       0.75      0.74      0.74       214\n",
            "           6       0.61      0.56      0.59       181\n",
            "           7       0.54      0.61      0.57        61\n",
            "           8       0.33      0.29      0.31         7\n",
            "\n",
            "    accuracy                           0.63       480\n",
            "   macro avg       0.40      0.41      0.41       480\n",
            "weighted avg       0.64      0.63      0.64       480\n",
            "\n"
          ]
        }
      ],
      "source": [
        "print(classification_report(y_test, y_pred))"
      ]
    },
    {
      "cell_type": "code",
      "execution_count": 7,
      "id": "161994a5",
      "metadata": {
        "id": "161994a5",
        "colab": {
          "base_uri": "https://localhost:8080/"
        },
        "outputId": "0094c034-d194-4681-beaa-8de39ccc8510"
      },
      "outputs": [
        {
          "output_type": "stream",
          "name": "stdout",
          "text": [
            "0.872245352686529 0.8672495513934988 0.872245352686529\n"
          ]
        }
      ],
      "source": [
        "scores = cross_validate(model1, x_train, y_train, cv=5, scoring=['accuracy', 'f1_weighted', 'recall_weighted'])\n",
        "\n",
        "print(np.mean(scores['test_accuracy']), np.mean(scores['test_f1_weighted']), np.mean(scores['test_recall_weighted']))"
      ]
    },
    {
      "cell_type": "code",
      "execution_count": 8,
      "id": "091efb8e",
      "metadata": {
        "id": "091efb8e",
        "colab": {
          "base_uri": "https://localhost:8080/"
        },
        "outputId": "6bc6695a-f4c7-4a34-ea4d-bcaefa6531b5"
      },
      "outputs": [
        {
          "output_type": "stream",
          "name": "stdout",
          "text": [
            "0.6333333333333333 0.6374067524263239 0.6333333333333333\n",
            "\n"
          ]
        },
        {
          "output_type": "execute_result",
          "data": {
            "text/plain": [
              "array([[  0,   0,   2,   0,   0,   0],\n",
              "       [  3,   4,   4,   3,   1,   0],\n",
              "       [  1,   7, 159,  42,   5,   0],\n",
              "       [  1,   9,  45, 102,  22,   2],\n",
              "       [  0,   1,   3,  18,  37,   2],\n",
              "       [  0,   0,   0,   2,   3,   2]])"
            ]
          },
          "metadata": {},
          "execution_count": 8
        }
      ],
      "source": [
        "y_pred = model1.predict(x_test)\n",
        "\n",
        "print(accuracy_score(y_test, y_pred), f1_score(y_test, y_pred, average=\"weighted\"), recall_score(y_test, y_pred, average=\"weighted\"))\n",
        "print()\n",
        "\n",
        "confusion_matrix(y_test, y_pred)"
      ]
    }
  ],
  "metadata": {
    "kernelspec": {
      "display_name": "Python 3 (ipykernel)",
      "language": "python",
      "name": "python3"
    },
    "language_info": {
      "codemirror_mode": {
        "name": "ipython",
        "version": 3
      },
      "file_extension": ".py",
      "mimetype": "text/x-python",
      "name": "python",
      "nbconvert_exporter": "python",
      "pygments_lexer": "ipython3",
      "version": "3.9.12"
    },
    "colab": {
      "name": "Water_randomforest.ipynb",
      "provenance": [],
      "collapsed_sections": []
    }
  },
  "nbformat": 4,
  "nbformat_minor": 5
}