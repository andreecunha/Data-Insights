{
  "cells": [
    {
      "cell_type": "code",
      "execution_count": 1,
      "id": "c7e6aa5e",
      "metadata": {
        "id": "c7e6aa5e"
      },
      "outputs": [],
      "source": [
        "import pandas as pd\n",
        "import numpy as np\n",
        "import matplotlib.pyplot as plt\n",
        "from sklearn.model_selection import train_test_split, GridSearchCV, cross_validate\n",
        "from sklearn.preprocessing import StandardScaler\n",
        "from sklearn.neural_network import MLPClassifier\n",
        "from sklearn.metrics import accuracy_score, classification_report, f1_score, recall_score, confusion_matrix\n",
        "import sklearn\n",
        "import math\n",
        "import warnings\n",
        "import seaborn as sns\n",
        "from imblearn.over_sampling import SMOTE\n",
        "from sklearn.decomposition import PCA\n",
        "\n",
        "\n",
        "warnings.filterwarnings(\"ignore\")\n"
      ]
    },
    {
      "cell_type": "code",
      "execution_count": 2,
      "id": "211622da",
      "metadata": {
        "colab": {
          "base_uri": "https://localhost:8080/"
        },
        "id": "211622da",
        "outputId": "c29175e3-c36b-4a77-b82b-b5551744daf3"
      },
      "outputs": [
        {
          "output_type": "stream",
          "name": "stdout",
          "text": [
            "   fixed acidity  volatile acidity  citric acid  residual sugar  chlorides  \\\n",
            "0            7.4              0.70         0.00             1.9      0.076   \n",
            "1            7.8              0.88         0.00             2.6      0.098   \n",
            "2            7.8              0.76         0.04             2.3      0.092   \n",
            "3           11.2              0.28         0.56             1.9      0.075   \n",
            "4            7.4              0.70         0.00             1.9      0.076   \n",
            "\n",
            "   free sulfur dioxide  total sulfur dioxide  density    pH  sulphates  \\\n",
            "0                 11.0                  34.0   0.9978  3.51       0.56   \n",
            "1                 25.0                  67.0   0.9968  3.20       0.68   \n",
            "2                 15.0                  54.0   0.9970  3.26       0.65   \n",
            "3                 17.0                  60.0   0.9980  3.16       0.58   \n",
            "4                 11.0                  34.0   0.9978  3.51       0.56   \n",
            "\n",
            "   alcohol  quality  \n",
            "0      9.4        5  \n",
            "1      9.8        5  \n",
            "2      9.8        5  \n",
            "3      9.8        6  \n",
            "4      9.4        5  \n"
          ]
        }
      ],
      "source": [
        "data = pd.read_csv(\"wine_quality.csv\")\n",
        "\n",
        "print(data.head())\n",
        "\n",
        "columns  = data.columns\n"
      ]
    },
    {
      "cell_type": "code",
      "execution_count": 3,
      "id": "afad67cd",
      "metadata": {
        "colab": {
          "base_uri": "https://localhost:8080/"
        },
        "id": "afad67cd",
        "outputId": "1eaa76f6-9037-4131-ebc0-ce93ed6bf100"
      },
      "outputs": [
        {
          "output_type": "stream",
          "name": "stdout",
          "text": [
            "fixed acidity           0\n",
            "volatile acidity        0\n",
            "citric acid             0\n",
            "residual sugar          0\n",
            "chlorides               0\n",
            "free sulfur dioxide     0\n",
            "total sulfur dioxide    0\n",
            "density                 0\n",
            "pH                      0\n",
            "sulphates               0\n",
            "alcohol                 0\n",
            "quality                 0\n",
            "dtype: int64\n",
            "(1599, 12)\n"
          ]
        }
      ],
      "source": [
        "# Missing values\n",
        "\n",
        "def change_mean():\n",
        "  for i in data.columns[data.isnull().any(axis=0)]: \n",
        "    data[i] = data.groupby(\"quality\")[i].transform(lambda x: x.fillna(x.mean()))\n",
        "\n",
        "def drop_cols(data):\n",
        "    for i in range(data.shape[0]):\n",
        "        if (math.isnan(data.loc[i,'ph']) or math.isnan(data.loc[i, 'Sulfate']) or math.isnan(data.loc[i, \"Trihalomethanes\"])):\n",
        "            data = data.drop(i, axis = 0)\n",
        "    return data\n",
        "\n",
        "# Outliers\n",
        "\n",
        "def change_mean_out():\n",
        "  for col in columns:\n",
        "      mean = np.mean(data.loc[:, col])\n",
        "      std = np.std(data.loc[:, col])\n",
        "      for i in range(data.shape[0]):\n",
        "        if data.loc[i,col] > mean + 2 * std:\n",
        "          data[col] = data.groupby(\"quality\")[col].transform(lambda x: x.fillna(x.mean()))\n",
        "\n",
        "def drop_out():\n",
        "    for col in columns:\n",
        "      mean = np.mean(data.loc[:, col])\n",
        "      std = np.std(data.loc[:, col])\n",
        "      for i in range(data.shape[0]):\n",
        "        if data.loc[i,col] > mean + 2 * std:\n",
        "          data.drop(i, axis = 0)\n",
        "\n",
        "#data = drop_cols(data)\n",
        "change_mean()\n",
        "change_mean_out()\n",
        "\n",
        "print(data.isnull().sum())\n",
        "print(data.shape)\n",
        "\n",
        "pca = PCA(n_components=3)\n",
        "pca.fit(data)\n",
        "\n",
        "y = data[\"quality\"]\n",
        "x = data.drop([\"quality\"], axis = 1)\n"
      ]
    },
    {
      "cell_type": "code",
      "execution_count": 4,
      "id": "58673e06",
      "metadata": {
        "id": "58673e06"
      },
      "outputs": [],
      "source": [
        "x_train, x_test, y_train, y_test = train_test_split(x, y, test_size = 0.3)\n",
        "\n",
        "scaler = StandardScaler()\n",
        "scaler.fit(x_train)\n",
        "\n",
        "x_train = scaler.transform(x_train)\n",
        "x_test = scaler.transform(x_test)\n",
        "\n",
        "smote = SMOTE()\n",
        "x_train, y_train = smote.fit_resample(x_train, y_train)"
      ]
    },
    {
      "cell_type": "code",
      "execution_count": 5,
      "id": "3fa68263",
      "metadata": {
        "id": "3fa68263"
      },
      "outputs": [],
      "source": [
        "mlp = MLPClassifier()\n",
        "\n",
        "search_space = { \"max_iter\": [50, 100, 200],\n",
        "                \"hidden_layer_sizes\" : [(50,), (100,)]}\n",
        "\n",
        "model1 = GridSearchCV(mlp, search_space)\n",
        "\n",
        "model1.fit(x_train, y_train) \n",
        "\n",
        "y_pred = model1.predict(x_test)"
      ]
    },
    {
      "cell_type": "code",
      "execution_count": 6,
      "id": "1b9dffb0",
      "metadata": {
        "id": "1b9dffb0",
        "outputId": "12faa575-e4d1-47e1-d96c-2c0f8f8a7226",
        "colab": {
          "base_uri": "https://localhost:8080/"
        }
      },
      "outputs": [
        {
          "output_type": "stream",
          "name": "stdout",
          "text": [
            "              precision    recall  f1-score   support\n",
            "\n",
            "           3       0.00      0.00      0.00         1\n",
            "           4       0.15      0.24      0.18        17\n",
            "           5       0.66      0.63      0.65       205\n",
            "           6       0.57      0.43      0.49       202\n",
            "           7       0.27      0.49      0.35        47\n",
            "           8       0.20      0.38      0.26         8\n",
            "\n",
            "    accuracy                           0.51       480\n",
            "   macro avg       0.31      0.36      0.32       480\n",
            "weighted avg       0.56      0.51      0.53       480\n",
            "\n"
          ]
        }
      ],
      "source": [
        "print(classification_report(y_test, y_pred))"
      ]
    },
    {
      "cell_type": "code",
      "execution_count": null,
      "id": "161994a5",
      "metadata": {
        "id": "161994a5"
      },
      "outputs": [],
      "source": [
        "scores = cross_validate(model1, x_train, y_train, cv=5, scoring=['accuracy', 'f1_weighted', 'recall_weighted'])\n",
        "\n",
        "print(np.mean(scores['test_accuracy']), np.mean(scores['test_f1_weighted']), np.mean(scores['test_recall_weighted']))"
      ]
    },
    {
      "cell_type": "code",
      "execution_count": null,
      "id": "091efb8e",
      "metadata": {
        "id": "091efb8e"
      },
      "outputs": [],
      "source": [
        "y_pred = model1.predict(x_test)\n",
        "\n",
        "print(accuracy_score(y_test, y_pred), f1_score(y_test, y_pred, average=\"weighted\"), recall_score(y_test, y_pred, average=\"weighted\"))\n",
        "print()\n",
        "\n",
        "confusion_matrix(y_test, y_pred)"
      ]
    }
  ],
  "metadata": {
    "kernelspec": {
      "display_name": "Python 3 (ipykernel)",
      "language": "python",
      "name": "python3"
    },
    "language_info": {
      "codemirror_mode": {
        "name": "ipython",
        "version": 3
      },
      "file_extension": ".py",
      "mimetype": "text/x-python",
      "name": "python",
      "nbconvert_exporter": "python",
      "pygments_lexer": "ipython3",
      "version": "3.9.12"
    },
    "colab": {
      "name": "Wine_NN.ipynb",
      "provenance": [],
      "collapsed_sections": []
    }
  },
  "nbformat": 4,
  "nbformat_minor": 5
}