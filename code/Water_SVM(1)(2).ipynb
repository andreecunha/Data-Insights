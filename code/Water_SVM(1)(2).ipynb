{
  "cells": [
    {
      "cell_type": "code",
      "execution_count": 26,
      "id": "c7e6aa5e",
      "metadata": {
        "id": "c7e6aa5e"
      },
      "outputs": [],
      "source": [
        "import pandas as pd\n",
        "import numpy as np\n",
        "import matplotlib.pyplot as plt\n",
        "from sklearn.model_selection import train_test_split, GridSearchCV, cross_validate\n",
        "from sklearn.preprocessing import StandardScaler\n",
        "from sklearn.svm import SVC\n",
        "from sklearn.metrics import accuracy_score, classification_report, f1_score, recall_score, confusion_matrix\n",
        "import sklearn\n",
        "import math\n",
        "import warnings\n",
        "import seaborn as sns\n",
        "from imblearn.over_sampling import SMOTE\n",
        "\n",
        "\n",
        "warnings.filterwarnings(\"ignore\")\n"
      ]
    },
    {
      "cell_type": "code",
      "execution_count": 2,
      "id": "211622da",
      "metadata": {
        "colab": {
          "base_uri": "https://localhost:8080/"
        },
        "id": "211622da",
        "outputId": "6e666a8d-9abd-4b42-caf9-9673d17b9a62"
      },
      "outputs": [
        {
          "output_type": "stream",
          "name": "stdout",
          "text": [
            "         ph    Hardness        Solids  Chloramines     Sulfate  Conductivity  \\\n",
            "0       NaN  204.890455  20791.318981     7.300212  368.516441    564.308654   \n",
            "1  3.716080  129.422921  18630.057858     6.635246         NaN    592.885359   \n",
            "2  8.099124  224.236259  19909.541732     9.275884         NaN    418.606213   \n",
            "3  8.316766  214.373394  22018.417441     8.059332  356.886136    363.266516   \n",
            "4  9.092223  181.101509  17978.986339     6.546600  310.135738    398.410813   \n",
            "\n",
            "   Organic_carbon  Trihalomethanes  Turbidity  Potability  \n",
            "0       10.379783        86.990970   2.963135           0  \n",
            "1       15.180013        56.329076   4.500656           0  \n",
            "2       16.868637        66.420093   3.055934           0  \n",
            "3       18.436524       100.341674   4.628771           0  \n",
            "4       11.558279        31.997993   4.075075           0  \n"
          ]
        }
      ],
      "source": [
        "data = pd.read_csv(\"water_potability.csv\")\n",
        "\n",
        "print(data.head())\n",
        "\n",
        "columns  = data.columns\n"
      ]
    },
    {
      "cell_type": "code",
      "execution_count": 3,
      "id": "afad67cd",
      "metadata": {
        "colab": {
          "base_uri": "https://localhost:8080/"
        },
        "id": "afad67cd",
        "outputId": "26d5d793-e2d8-46d4-a95e-c572fdafeefd"
      },
      "outputs": [
        {
          "output_type": "stream",
          "name": "stdout",
          "text": [
            "ph                 0\n",
            "Hardness           0\n",
            "Solids             0\n",
            "Chloramines        0\n",
            "Sulfate            0\n",
            "Conductivity       0\n",
            "Organic_carbon     0\n",
            "Trihalomethanes    0\n",
            "Turbidity          0\n",
            "Potability         0\n",
            "dtype: int64\n",
            "(3276, 10)\n"
          ]
        }
      ],
      "source": [
        "# Missing values\n",
        "\n",
        "def change_mean():\n",
        "  for i in data.columns[data.isnull().any(axis=0)]: \n",
        "    data[i] = data.groupby(\"Potability\")[i].transform(lambda x: x.fillna(x.mean()))\n",
        "\n",
        "def drop_cols(data):\n",
        "    for i in range(data.shape[0]):\n",
        "        if (math.isnan(data.loc[i,'ph']) or math.isnan(data.loc[i, 'Sulfate']) or math.isnan(data.loc[i, \"Trihalomethanes\"])):\n",
        "            data = data.drop(i, axis = 0)\n",
        "    return data\n",
        "\n",
        "# Outliers\n",
        "\n",
        "def change_mean_out():\n",
        "  for col in columns:\n",
        "      mean = np.mean(data.loc[:, col])\n",
        "      std = np.std(data.loc[:, col])\n",
        "      for i in range(data.shape[0]):\n",
        "        if data.loc[i,col] > mean + 2 * std:\n",
        "          data[col] = data.groupby(\"Potability\")[col].transform(lambda x: x.fillna(x.mean()))\n",
        "\n",
        "def drop_out():\n",
        "    for col in columns:\n",
        "      mean = np.mean(data.loc[:, col])\n",
        "      std = np.std(data.loc[:, col])\n",
        "      for i in range(data.shape[0]):\n",
        "        if data.loc[i,col] > mean + 2 * std:\n",
        "          data.drop(i, axis = 0)\n",
        "\n",
        "#data = drop_cols(data)\n",
        "change_mean()\n",
        "change_mean_out()\n",
        "\n",
        "print(data.isnull().sum())\n",
        "print(data.shape)\n",
        "\n",
        "y = data[\"Potability\"]\n",
        "x = data.drop([\"Potability\"], axis = 1)"
      ]
    },
    {
      "cell_type": "code",
      "execution_count": 9,
      "id": "58673e06",
      "metadata": {
        "id": "58673e06"
      },
      "outputs": [],
      "source": [
        "x_train, x_test, y_train, y_test = train_test_split(x, y, test_size = 0.3)\n",
        "\n",
        "scaler = StandardScaler()\n",
        "scaler.fit(x_train)\n",
        "\n",
        "x_train = scaler.transform(x_train)\n",
        "x_test = scaler.transform(x_test)\n",
        "\n",
        "smote = SMOTE()\n",
        "x_train, y_train = smote.fit_resample(x_train, y_train)"
      ]
    },
    {
      "cell_type": "code",
      "execution_count": 14,
      "id": "3fa68263",
      "metadata": {
        "id": "3fa68263"
      },
      "outputs": [],
      "source": [
        "svc = SVC()\n",
        "\n",
        "search_space = { \"C\": [1,2],\n",
        "                \"kernel\" : [\"linear\", \"rbf\"]}\n",
        "\n",
        "model1 = GridSearchCV(svc, search_space)\n",
        "\n",
        "model1.fit(x_train, y_train) \n",
        "\n",
        "y_pred = model1.predict(x_test)"
      ]
    },
    {
      "cell_type": "code",
      "execution_count": 24,
      "id": "1b9dffb0",
      "metadata": {
        "id": "1b9dffb0",
        "outputId": "58add976-301e-4bf2-8df9-cdcb55b098ed",
        "colab": {
          "base_uri": "https://localhost:8080/"
        }
      },
      "outputs": [
        {
          "output_type": "stream",
          "name": "stdout",
          "text": [
            "              precision    recall  f1-score   support\n",
            "\n",
            "           0       0.74      0.66      0.70       621\n",
            "           1       0.51      0.60      0.55       362\n",
            "\n",
            "    accuracy                           0.64       983\n",
            "   macro avg       0.62      0.63      0.62       983\n",
            "weighted avg       0.65      0.64      0.64       983\n",
            "\n"
          ]
        }
      ],
      "source": [
        "print(classification_report(y_test, y_pred))"
      ]
    },
    {
      "cell_type": "code",
      "execution_count": 16,
      "id": "161994a5",
      "metadata": {
        "id": "161994a5",
        "colab": {
          "base_uri": "https://localhost:8080/"
        },
        "outputId": "382d891a-5ecf-44e1-f5f6-62eeceadfc89"
      },
      "outputs": [
        {
          "output_type": "stream",
          "name": "stdout",
          "text": [
            "0.6623250288731233 0.6641085802645277 0.668171277997365\n"
          ]
        }
      ],
      "source": [
        "scores = cross_validate(model1, x_train, y_train, cv=5, scoring=['accuracy', 'f1', 'recall'])\n",
        "\n",
        "print(np.mean(scores['test_accuracy']), np.mean(scores['test_f1']), np.mean(scores['test_recall']))"
      ]
    },
    {
      "cell_type": "code",
      "execution_count": 28,
      "id": "091efb8e",
      "metadata": {
        "id": "091efb8e",
        "colab": {
          "base_uri": "https://localhost:8080/"
        },
        "outputId": "6f120ebc-3e25-40db-adc2-55a9d44184df"
      },
      "outputs": [
        {
          "output_type": "stream",
          "name": "stdout",
          "text": [
            "0.6378433367243134 0.549367088607595 0.5994475138121547\n",
            "\n"
          ]
        },
        {
          "output_type": "execute_result",
          "data": {
            "text/plain": [
              "array([[410, 211],\n",
              "       [145, 217]])"
            ]
          },
          "metadata": {},
          "execution_count": 28
        }
      ],
      "source": [
        "y_pred = model1.predict(x_test)\n",
        "\n",
        "print(accuracy_score(y_test, y_pred), f1_score(y_test, y_pred), recall_score(y_test, y_pred))\n",
        "print()\n",
        "\n",
        "confusion_matrix(y_test, y_pred)"
      ]
    }
  ],
  "metadata": {
    "kernelspec": {
      "display_name": "Python 3 (ipykernel)",
      "language": "python",
      "name": "python3"
    },
    "language_info": {
      "codemirror_mode": {
        "name": "ipython",
        "version": 3
      },
      "file_extension": ".py",
      "mimetype": "text/x-python",
      "name": "python",
      "nbconvert_exporter": "python",
      "pygments_lexer": "ipython3",
      "version": "3.9.12"
    },
    "colab": {
      "name": "Water_SVM(1).ipynb",
      "provenance": [],
      "collapsed_sections": []
    }
  },
  "nbformat": 4,
  "nbformat_minor": 5
}