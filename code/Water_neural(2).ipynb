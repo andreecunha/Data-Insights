{
  "cells": [
    {
      "cell_type": "code",
      "execution_count": 1,
      "id": "c7e6aa5e",
      "metadata": {
        "id": "c7e6aa5e"
      },
      "outputs": [],
      "source": [
        "import pandas as pd\n",
        "import numpy as np\n",
        "import matplotlib.pyplot as plt\n",
        "from sklearn.model_selection import train_test_split, GridSearchCV, cross_validate\n",
        "from sklearn.preprocessing import StandardScaler\n",
        "from sklearn.metrics import accuracy_score, classification_report, confusion_matrix, f1_score, recall_score\n",
        "from sklearn.neural_network import MLPClassifier\n",
        "import math\n",
        "import warnings\n",
        "import seaborn as sns\n",
        "from imblearn.over_sampling import SMOTE\n",
        "\n",
        "\n",
        "warnings.filterwarnings(\"ignore\")\n"
      ]
    },
    {
      "cell_type": "code",
      "execution_count": 2,
      "id": "211622da",
      "metadata": {
        "colab": {
          "base_uri": "https://localhost:8080/"
        },
        "id": "211622da",
        "outputId": "aa8eef69-8ea1-4177-8da7-5ee87d353cbb"
      },
      "outputs": [
        {
          "output_type": "stream",
          "name": "stdout",
          "text": [
            "         ph    Hardness        Solids  Chloramines     Sulfate  Conductivity  \\\n",
            "0       NaN  204.890455  20791.318981     7.300212  368.516441    564.308654   \n",
            "1  3.716080  129.422921  18630.057858     6.635246         NaN    592.885359   \n",
            "2  8.099124  224.236259  19909.541732     9.275884         NaN    418.606213   \n",
            "3  8.316766  214.373394  22018.417441     8.059332  356.886136    363.266516   \n",
            "4  9.092223  181.101509  17978.986339     6.546600  310.135738    398.410813   \n",
            "\n",
            "   Organic_carbon  Trihalomethanes  Turbidity  Potability  \n",
            "0       10.379783        86.990970   2.963135           0  \n",
            "1       15.180013        56.329076   4.500656           0  \n",
            "2       16.868637        66.420093   3.055934           0  \n",
            "3       18.436524       100.341674   4.628771           0  \n",
            "4       11.558279        31.997993   4.075075           0  \n"
          ]
        }
      ],
      "source": [
        "data = pd.read_csv(\"water_potability.csv\")\n",
        "\n",
        "print(data.head())\n",
        "\n",
        "columns  = data.columns\n"
      ]
    },
    {
      "cell_type": "code",
      "execution_count": 3,
      "id": "afad67cd",
      "metadata": {
        "colab": {
          "base_uri": "https://localhost:8080/"
        },
        "id": "afad67cd",
        "outputId": "d65c9d54-bfbe-4445-8420-09a07977af79"
      },
      "outputs": [
        {
          "output_type": "stream",
          "name": "stdout",
          "text": [
            "ph                 0\n",
            "Hardness           0\n",
            "Solids             0\n",
            "Chloramines        0\n",
            "Sulfate            0\n",
            "Conductivity       0\n",
            "Organic_carbon     0\n",
            "Trihalomethanes    0\n",
            "Turbidity          0\n",
            "Potability         0\n",
            "dtype: int64\n",
            "(3276, 10)\n"
          ]
        }
      ],
      "source": [
        "# Missing values\n",
        "\n",
        "def change_mean():\n",
        "  for i in data.columns[data.isnull().any(axis=0)]: \n",
        "    data[i] = data.groupby(\"Potability\")[i].transform(lambda x: x.fillna(x.mean()))\n",
        "\n",
        "def drop_cols(data):\n",
        "    for i in range(data.shape[0]):\n",
        "        if (math.isnan(data.loc[i,'ph']) or math.isnan(data.loc[i, 'Sulfate']) or math.isnan(data.loc[i, \"Trihalomethanes\"])):\n",
        "            data = data.drop(i, axis = 0)\n",
        "    return data\n",
        "\n",
        "#data = drop_cols(data)\n",
        "change_mean()\n",
        "\n",
        "print(data.isnull().sum())\n",
        "print(data.shape)\n",
        "\n",
        "y = data[\"Potability\"]\n",
        "x = data.drop([\"Potability\"], axis = 1)"
      ]
    },
    {
      "cell_type": "code",
      "execution_count": 4,
      "metadata": {
        "colab": {
          "base_uri": "https://localhost:8080/"
        },
        "outputId": "1859d325-be25-4ec0-ee2a-e290427fd726",
        "id": "mgXeq8fxbkCW"
      },
      "outputs": [
        {
          "output_type": "stream",
          "name": "stdout",
          "text": [
            "ph                 0\n",
            "Hardness           0\n",
            "Solids             0\n",
            "Chloramines        0\n",
            "Sulfate            0\n",
            "Conductivity       0\n",
            "Organic_carbon     0\n",
            "Trihalomethanes    0\n",
            "Turbidity          0\n",
            "Potability         0\n",
            "dtype: int64\n",
            "(3276, 10)\n"
          ]
        }
      ],
      "source": [
        "# Missing values\n",
        "\n",
        "def change_mean():\n",
        "  for i in data.columns[data.isnull().any(axis=0)]: \n",
        "    data[i] = data.groupby(\"Potability\")[i].transform(lambda x: x.fillna(x.mean()))\n",
        "\n",
        "def drop_cols(data):\n",
        "    for i in range(data.shape[0]):\n",
        "        if (math.isnan(data.loc[i,'ph']) or math.isnan(data.loc[i, 'Sulfate']) or math.isnan(data.loc[i, \"Trihalomethanes\"])):\n",
        "            data = data.drop(i, axis = 0)\n",
        "    return data\n",
        "\n",
        "# Missing values\n",
        "\n",
        "def change_mean_out():\n",
        "  for col in columns:\n",
        "      mean = np.mean(data.loc[:, col])\n",
        "      std = np.std(data.loc[:, col])\n",
        "      for i in range(data.shape[0]):\n",
        "        if data.loc[i,col] > mean + 2 * std:\n",
        "          data[col] = data.groupby(\"Potability\")[col].transform(lambda x: x.fillna(x.mean()))\n",
        "\n",
        "def drop_out():\n",
        "    for col in columns:\n",
        "      mean = np.mean(data.loc[:, col])\n",
        "      std = np.std(data.loc[:, col])\n",
        "      for i in range(data.shape[0]):\n",
        "        if data.loc[i,col] > mean + 2 * std:\n",
        "          data.drop(i, axis = 0)\n",
        "\n",
        "#data = drop_cols(data)\n",
        "change_mean()\n",
        "change_mean_out()\n",
        "\n",
        "print(data.isnull().sum())\n",
        "print(data.shape)\n",
        "\n",
        "y = data[\"Potability\"]\n",
        "x = data.drop([\"Potability\"], axis = 1)"
      ],
      "id": "mgXeq8fxbkCW"
    },
    {
      "cell_type": "code",
      "execution_count": 5,
      "id": "58673e06",
      "metadata": {
        "id": "58673e06"
      },
      "outputs": [],
      "source": [
        "x_train, x_test, y_train, y_test = train_test_split(x, y, test_size = 0.3)\n",
        "\n",
        "scaler = StandardScaler()\n",
        "scaler.fit(x_train)\n",
        "\n",
        "x_train = scaler.transform(x_train)\n",
        "x_test = scaler.transform(x_test)\n",
        "\n",
        "smote = SMOTE()\n",
        "x_train, y_train = smote.fit_resample(x_train, y_train)"
      ]
    },
    {
      "cell_type": "code",
      "execution_count": 6,
      "id": "3fa68263",
      "metadata": {
        "id": "3fa68263"
      },
      "outputs": [],
      "source": [
        "mlp = MLPClassifier()\n",
        "\n",
        "search_space = { \"max_iter\": [50, 100, 200],\n",
        "                 \"hidden_layer_sizes\" : [(50,), (100,)],\n",
        "                }\n",
        "\n",
        "model1 = GridSearchCV(mlp, search_space)\n",
        "\n",
        "model1.fit(x_train, y_train) \n",
        "\n",
        "pred = model1.predict(x_test)"
      ]
    },
    {
      "cell_type": "code",
      "execution_count": 7,
      "id": "1b9dffb0",
      "metadata": {
        "id": "1b9dffb0",
        "outputId": "68f9e4f0-1702-4483-be62-5aa71dc6898b",
        "colab": {
          "base_uri": "https://localhost:8080/"
        }
      },
      "outputs": [
        {
          "output_type": "stream",
          "name": "stdout",
          "text": [
            "              precision    recall  f1-score   support\n",
            "\n",
            "           0       0.67      0.86      0.75       573\n",
            "           1       0.67      0.40      0.50       410\n",
            "\n",
            "    accuracy                           0.67       983\n",
            "   macro avg       0.67      0.63      0.63       983\n",
            "weighted avg       0.67      0.67      0.65       983\n",
            "\n"
          ]
        }
      ],
      "source": [
        "print(classification_report(y_test, pred))"
      ]
    },
    {
      "cell_type": "code",
      "execution_count": null,
      "id": "161994a5",
      "metadata": {
        "id": "161994a5"
      },
      "outputs": [],
      "source": [
        "scores = cross_validate(model1, x_train, y_train, cv=5, scoring=['accuracy', 'f1', 'recall'])\n",
        "\n",
        "print(np.mean(scores['test_accuracy']), np.mean(scores['test_f1']), np.mean(scores['test_recall']))"
      ]
    },
    {
      "cell_type": "code",
      "execution_count": 7,
      "metadata": {
        "colab": {
          "base_uri": "https://localhost:8080/"
        },
        "outputId": "91d2c31f-8ba9-4c61-d32f-d1398d049f50",
        "id": "6gJbGwrPbMxC"
      },
      "outputs": [
        {
          "output_type": "stream",
          "name": "stdout",
          "text": [
            "0.6581892166836215 0.582089552238806 0.6307277628032345\n",
            "\n"
          ]
        },
        {
          "output_type": "execute_result",
          "data": {
            "text/plain": [
              "array([[413, 199],\n",
              "       [137, 234]])"
            ]
          },
          "metadata": {},
          "execution_count": 7
        }
      ],
      "source": [
        "y_pred = model1.predict(x_test)\n",
        "\n",
        "print(accuracy_score(y_test, y_pred), f1_score(y_test, y_pred), recall_score(y_test, y_pred))\n",
        "print()\n",
        "\n",
        "confusion_matrix(y_test, y_pred)"
      ],
      "id": "6gJbGwrPbMxC"
    }
  ],
  "metadata": {
    "kernelspec": {
      "display_name": "Python 3 (ipykernel)",
      "language": "python",
      "name": "python3"
    },
    "language_info": {
      "codemirror_mode": {
        "name": "ipython",
        "version": 3
      },
      "file_extension": ".py",
      "mimetype": "text/x-python",
      "name": "python",
      "nbconvert_exporter": "python",
      "pygments_lexer": "ipython3",
      "version": "3.9.12"
    },
    "colab": {
      "name": "Water_neural.ipynb",
      "provenance": [],
      "collapsed_sections": []
    }
  },
  "nbformat": 4,
  "nbformat_minor": 5
}